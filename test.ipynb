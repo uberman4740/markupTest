{
 "cells": [
  {
   "cell_type": "markdown",
   "metadata": {
    "collapsed": true
   },
   "source": [
    "# Note that in this code, the amount of the data has not been increased when using SelectKBest method. So the result is somewhat unreliable due to the fact that some of the features contain maybe less than 30 points while others contain more than 50. So next, I will use Decision Tree method to select features and in this time I will increase the amount of the data using folds parameter in the cross validation."
   ]
  },
  {
   "cell_type": "markdown",
   "metadata": {},
   "source": [
    "## Note that in this code, the amount of the data has not been increased when using SelectKBest method. So the result is somewhat unreliable due to the fact that some of the features contain maybe less than 30 points while others contain more than 50. So next, I will use Decision Tree method to select features and in this time I will increase the amount of the data using folds parameter in the cross validation."
   ]
  },
  {
   "cell_type": "markdown",
   "metadata": {},
   "source": [
    "### Note that in this code, the amount of the data has not been increased when using SelectKBest method. So the result is somewhat unreliable due to the fact that some of the features contain maybe less than 30 points while others contain more than 50. So next, I will use Decision Tree method to select features and in this time I will increase the amount of the data using folds parameter in the cross validation."
   ]
  },
  {
   "cell_type": "markdown",
   "metadata": {},
   "source": [
    "####  Note that in this code, the amount of the data has not been increased when using SelectKBest method. So the result is somewhat unreliable due to the fact that some of the features contain maybe less than 30 points while others contain more than 50. So next, I will use Decision Tree method to select features and in this time I will increase the amount of the data using folds parameter in the cross validation."
   ]
  },
  {
   "cell_type": "markdown",
   "metadata": {},
   "source": [
    "##### Note that in this code, the amount of the data has not been increased when using SelectKBest method. So the result is somewhat unreliable due to the fact that some of the features contain maybe less than 30 points while others contain more than 50. So next, I will use Decision Tree method to select features and in this time I will increase the amount of the data using folds parameter in the cross validation."
   ]
  },
  {
   "cell_type": "markdown",
   "metadata": {},
   "source": [
    "######  Note that in this code, the amount of the data has not been increased when using SelectKBest method. So the result is somewhat unreliable due to the fact that some of the features contain maybe less than 30 points while others contain more than 50. So next, I will use Decision Tree method to select features and in this time I will increase the amount of the data using folds parameter in the cross validation."
   ]
  },
  {
   "cell_type": "markdown",
   "metadata": {},
   "source": [
    "Note that in this code, the amount of the data has not been increased when using SelectKBest method. So the result is somewhat unreliable due to the fact that some of the featuresontain maybe less than 30 points while others contain more than 50. So next, I will use Decision Tree method to select features and in this time I will increase the amount of the data using folds parameter in the cross validation."
   ]
  },
  {
   "cell_type": "code",
   "execution_count": null,
   "outputs": [],
   "source": [
    ""
   ]
  }
 ],
 "metadata": {
  "kernelspec": {
   "display_name": "Python 2",
   "language": "python",
   "name": "python2"
  },
  "language_info": {
   "codemirror_mode": {
    "name": "ipython",
    "version": 2.0
   },
   "file_extension": ".py",
   "mimetype": "text/x-python",
   "name": "python",
   "nbconvert_exporter": "python",
   "pygments_lexer": "ipython2",
   "version": "2.7.6"
  }
 },
 "nbformat": 4,
 "nbformat_minor": 0
}